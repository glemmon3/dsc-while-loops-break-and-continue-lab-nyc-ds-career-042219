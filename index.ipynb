{
 "cells": [
  {
   "cell_type": "markdown",
   "metadata": {},
   "source": [
    "# While Loops, Break and Continue - Lab"
   ]
  },
  {
   "cell_type": "markdown",
   "metadata": {},
   "source": [
    "## Introduction\n",
    "In this lab, we will practice using `while` loops, and `break` and `continue` statements in our code. We will use our control flow statements to iterate through collections and filter out or selectively operate on each element. We'll use `while` loops to perform operations until a given condition is no longer true."
   ]
  },
  {
   "cell_type": "markdown",
   "metadata": {},
   "source": [
    "## Objectives\n",
    "You will be able to:\n",
    "* Use a break and continue statements inside a loop\n",
    "* Understand, explain and use while loops"
   ]
  },
  {
   "cell_type": "markdown",
   "metadata": {},
   "source": [
    "## Instructions\n",
    "\n",
    "### While Loops\n",
    "Use while loops to perform the below operations and get the expected return values"
   ]
  },
  {
   "cell_type": "code",
   "execution_count": 22,
   "metadata": {},
   "outputs": [
    {
     "name": "stdout",
     "output_type": "stream",
     "text": [
      "Another slice eaten!\n",
      "There are  6  slices remaining!\n",
      "Another slice eaten!\n",
      "There are  5  slices remaining!\n",
      "Another slice eaten!\n",
      "There are  4  slices remaining!\n",
      "Another slice eaten!\n",
      "There are  3  slices remaining!\n",
      "Another slice eaten!\n",
      "There are  2  slices remaining!\n",
      "Another slice eaten!\n",
      "There is  1  slice remaining!\n",
      "Another slice eaten!\n",
      "No more slices!\n"
     ]
    }
   ],
   "source": [
    "slices_of_pie = 6\n",
    "while slices_of_pie > 0:\n",
    "    if slices_of_pie>1:\n",
    "        print(\"Another slice eaten!\\nThere are \", slices_of_pie, \" slices remaining!\")\n",
    "    slices_of_pie-=1\n",
    "    if slices_of_pie == 1:\n",
    "        print(\"Another slice eaten!\\nThere is \", slices_of_pie, \" slice remaining!\")\n",
    "    if slices_of_pie == 0:\n",
    "        print(\"Another slice eaten!\\nNo more slices!\")\n",
    "# use a while loop to eat each slice of pie\n",
    "# add each slice to the slices_eaten variable"
   ]
  },
  {
   "cell_type": "code",
   "execution_count": 10,
   "metadata": {},
   "outputs": [
    {
     "name": "stdout",
     "output_type": "stream",
     "text": [
      "I have made 1 pancakes and I have  1414  seconds left to make more!\n",
      "I have made 2 pancakes and I have  1360  seconds left to make more!\n",
      "I have made 3 pancakes and I have  1306  seconds left to make more!\n",
      "I have made 4 pancakes and I have  1252  seconds left to make more!\n",
      "I have made 5 pancakes and I have  1198  seconds left to make more!\n",
      "I have made 6 pancakes and I have  1144  seconds left to make more!\n",
      "I have made 7 pancakes and I have  1090  seconds left to make more!\n",
      "I have made 8 pancakes and I have  1036  seconds left to make more!\n",
      "I have made 9 pancakes and I have  982  seconds left to make more!\n",
      "I have made 10 pancakes and I have  928  seconds left to make more!\n",
      "I have made 11 pancakes and I have  874  seconds left to make more!\n",
      "I have made 12 pancakes and I have  820  seconds left to make more!\n",
      "I have made 13 pancakes and I have  766  seconds left to make more!\n",
      "I have made 14 pancakes and I have  712  seconds left to make more!\n",
      "I have made 15 pancakes and I have  658  seconds left to make more!\n",
      "I have made 16 pancakes and I have  604  seconds left to make more!\n",
      "I have made 17 pancakes and I have  550  seconds left to make more!\n",
      "I have made 18 pancakes and I have  496  seconds left to make more!\n",
      "I have made 19 pancakes and I have  442  seconds left to make more!\n",
      "I have made 20 pancakes and I have  388  seconds left to make more!\n",
      "I have made 21 pancakes and I have  334  seconds left to make more!\n",
      "I have made 22 pancakes and I have  280  seconds left to make more!\n",
      "I have made 23 pancakes and I have  226  seconds left to make more!\n",
      "I have made 24 pancakes and I have  172  seconds left to make more!\n",
      "I have made 25 pancakes and I have  118  seconds left to make more!\n",
      "I have made 26 pancakes and I have  64  seconds left to make more!\n",
      "I have made 27 pancakes and I have  10  seconds left to make more!\n",
      "I have made 28 pancakes and I have  -44  seconds left to make more!\n"
     ]
    }
   ],
   "source": [
    "time_for_breakfast = 1468 # in seconds\n",
    "number_of_cooked_pancakes = 0\n",
    "while time_for_breakfast > 0:\n",
    "    time_for_breakfast-=54\n",
    "    number_of_cooked_pancakes+=1\n",
    "    print(\"I have made\", number_of_cooked_pancakes, \"pancakes and I have \", time_for_breakfast, \" seconds left to make more!\")\n",
    "\n",
    "\n",
    "\n",
    "# use a while loop to make yourself 5 pancakes for breakfast\n",
    "# each pancake takes 27 seconds to cook on each side\n",
    "# you must decrease the time_for_breakfast each time you \n",
    "# add a pancake to the skillet (frying pan) or flip a pancake (i.e. 2 times per pancake)\n",
    "# there is only room for one pancake at a time"
   ]
  },
  {
   "cell_type": "markdown",
   "metadata": {},
   "source": [
    "## For Loops"
   ]
  },
  {
   "cell_type": "markdown",
   "metadata": {},
   "source": [
    "> **Hint:** You may find the [remove method](https://www.programiz.com/python-programming/methods/list/remove) to be useful for the next problem"
   ]
  },
  {
   "cell_type": "code",
   "execution_count": 15,
   "metadata": {},
   "outputs": [
    {
     "name": "stdout",
     "output_type": "stream",
     "text": [
      "Those hungry: [1, 3, 5, 7, 9, 11, 13, 15, 17, 19, 21, 23, 25, 27, 29]\n",
      "Thos fed: [2, 4, 6, 8, 10, 12, 14, 16, 18, 20, 22, 24, 26, 28, 30]\n"
     ]
    }
   ],
   "source": [
    "line_of_hungry_patrons = list(range(1,31))\n",
    "fed_patrons = []\n",
    "\n",
    "for patron in line_of_hungry_patrons:\n",
    "    if patron % 2 == 0:\n",
    "        line_of_hungry_patrons.remove(patron)\n",
    "        fed_patrons.append(patron)\n",
    "print('Those hungry:', line_of_hungry_patrons)\n",
    "print('Thos fed:', fed_patrons)\n",
    "    \n",
    "# use a while loop to to feed the hungry patrons who have an even number\n",
    "# add the patrons with an even number to the fed_patrons list\n",
    "# then remove the even numbered patrons from the line_of_hungry_patrons\n",
    "# each list should contain 15 elements"
   ]
  },
  {
   "cell_type": "markdown",
   "metadata": {},
   "source": [
    "### `break` And `continue` Statements"
   ]
  },
  {
   "cell_type": "markdown",
   "metadata": {},
   "source": [
    "We have a list of person objects with all kinds of attributes. We'll use loops to find a person that meets a certain requirement that we are looking for or create new lists with a certain subset of elements. Write for loops with conditional statements in conjunction with `break` and `continue` to get the desired output."
   ]
  },
  {
   "cell_type": "code",
   "execution_count": 3,
   "metadata": {},
   "outputs": [],
   "source": [
    "people = [\n",
    "    {'name': \"Daniel\", 'age': 29, 'job': \"Engineer\", 'pet': \"Cat\", 'pet_name': \"Gato\"}, \n",
    "    {'name': \"Katie\", 'age': 30, 'job': \"Teacher\", 'pet': \"Dog\", 'pet_name': \"Frank\"},\n",
    "    {'name': \"Owen\", 'age': 26, 'job': \"Sales person\", 'pet': \"Cat\", 'pet_name': \"Cosmo\"},\n",
    "    {'name': \"Josh\", 'age': 22, 'job': \"Student\", 'pet': \"Cat\", 'pet_name': \"Chat\"},\n",
    "    {'name': \"Estelle\", 'age': 35, 'job': \"French Diplomat\", 'pet': \"Dog\", 'pet_name': \"Gabby\"},\n",
    "    {'name': \"Gustav\", 'age': 24, 'job': \"Brewer\", 'pet': \"Dog\", 'pet_name': \"Helen\"}\n",
    "]"
   ]
  },
  {
   "cell_type": "code",
   "execution_count": 27,
   "metadata": {},
   "outputs": [
    {
     "name": "stdout",
     "output_type": "stream",
     "text": [
      "Katie has a dog! Had to check 2 records to find a dog owneer.\n",
      "Estelle has a dog! Had to check 5 records to find a dog owneer.\n",
      "Gustav has a dog! Had to check 6 records to find a dog owneer.\n"
     ]
    }
   ],
   "source": [
    "# use the for loop below to find the *first* person in the list of people that has a dog as their pet\n",
    "# the iteration count shouldn't exceed 2 iterations\n",
    "first_dog_person = None\n",
    "iteration_count = 0\n",
    "for person in people:\n",
    "    iteration_count += 1\n",
    "    if person['pet']=='Dog':\n",
    "        print('{} has a dog! Had to check {} records to find a dog owneer.'.format(person['name'], iteration_count))"
   ]
  },
  {
   "cell_type": "code",
   "execution_count": 28,
   "metadata": {},
   "outputs": [
    {
     "name": "stdout",
     "output_type": "stream",
     "text": [
      "Gustav has a cat and is under the age of 28! I had to check 6 records to find this person\n"
     ]
    }
   ],
   "source": [
    "# use a for loop to create a list of the cat owners who are under the age of 28\n",
    "cat_owners = None\n",
    "iteration_count = 0\n",
    "for person in people:\n",
    "    iteration_count+=1\n",
    "    if person['pet']=='Dog' and person['age']<28:\n",
    "        print(\"{} has a cat and is under the age of 28! I had to check {} records to find this person\".format(person['name'], iteration_count))\n",
    "# for loop goes here"
   ]
  },
  {
   "cell_type": "code",
   "execution_count": 4,
   "metadata": {},
   "outputs": [
    {
     "name": "stdout",
     "output_type": "stream",
     "text": [
      "Katie is 30 years old!\n",
      "Estelle is 35 years old!\n"
     ]
    }
   ],
   "source": [
    "# use a for loop to find the first person who is above 29 years old in our list of people\n",
    "# remember to use a break and or continue statement\n",
    "thirty_something_yr_old = None\n",
    "iteration_count=0\n",
    "for person in people:\n",
    "    iteration_count+=1\n",
    "    if person['age']>29:\n",
    "        print(\"{} is {} years old!\".format(person['name'],person['age']))\n",
    "    \n",
    "# for loop goes here"
   ]
  },
  {
   "cell_type": "code",
   "execution_count": 8,
   "metadata": {},
   "outputs": [
    {
     "name": "stdout",
     "output_type": "stream",
     "text": [
      "['Katie', 'Estelle', 'Gustav']\n",
      "['Frank', 'Gabby', 'Helen']\n"
     ]
    }
   ],
   "source": [
    "# use a for loop to create a list of person names and another list of pet names for all dog owners\n",
    "dog_owner_names = []\n",
    "dog_names = []\n",
    "# for loop goes here\n",
    "for person in people:\n",
    "    if person['pet'] == 'Dog':\n",
    "        dog_owner_names.append(person['name'])\n",
    "        dog_names.append(person['pet_name'])\n",
    "    else:\n",
    "        continue\n",
    "    \n",
    "print(dog_owner_names)\n",
    "print(dog_names)"
   ]
  },
  {
   "cell_type": "code",
   "execution_count": 13,
   "metadata": {},
   "outputs": [
    {
     "name": "stdout",
     "output_type": "stream",
     "text": [
      "[11, 13, 15, 17, 19, 21, 23, 25, 27, 29, 31, 33, 35, 37, 39, 41, 43, 45, 47, 49, 51, 53, 55, 57, 59, 61, 63, 65, 67, 69, 71, 73, 75, 77, 79, 81, 83, 85, 87, 89, 91, 93, 95, 97, 99, 101, 103, 105, 107, 109]\n"
     ]
    }
   ],
   "source": [
    "# use a for loop to create a list of odd numbers from the list of numbers from 0 to 100\n",
    "# each time there is an odd number, add 10 to it and append it to the list_of_odd_numbers_plus_ten\n",
    "# stop adding numbers to the list when there are 35 numbers\n",
    "# use break and continue statements in your code\n",
    "list_of_numbers = list(range(0,100))\n",
    "list_of_odd_numbers_plus_ten = []\n",
    "for number in list_of_numbers:\n",
    "    if number % 2 == 1:\n",
    "        list_of_odd_numbers_plus_ten.append(number+10)\n",
    "    else:\n",
    "        continue\n",
    "            \n",
    "print(list_of_odd_numbers_plus_ten)"
   ]
  },
  {
   "cell_type": "markdown",
   "metadata": {},
   "source": [
    "## Summary"
   ]
  },
  {
   "cell_type": "markdown",
   "metadata": {},
   "source": [
    "In this lab, we practiced using while loops, which continue executing their block of code until the given condition is no longer truthy. This is useful for instances where we do not have a collection or do not need a collection to solve our problem, especially when we would only like to stop the process according to a certain condition. We then practiced using control flow statements, `break` and `continue`, to selectively operate on elements, append them to new lists, or assign them to new variables."
   ]
  }
 ],
 "metadata": {
  "kernelspec": {
   "display_name": "Python 3",
   "language": "python",
   "name": "python3"
  },
  "language_info": {
   "codemirror_mode": {
    "name": "ipython",
    "version": 3
   },
   "file_extension": ".py",
   "mimetype": "text/x-python",
   "name": "python",
   "nbconvert_exporter": "python",
   "pygments_lexer": "ipython3",
   "version": "3.6.6"
  }
 },
 "nbformat": 4,
 "nbformat_minor": 2
}
